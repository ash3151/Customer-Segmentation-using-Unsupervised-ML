{
  "metadata": {
    "kernelspec": {
      "language": "python",
      "display_name": "Python 3",
      "name": "python3"
    },
    "language_info": {
      "pygments_lexer": "ipython3",
      "nbconvert_exporter": "python",
      "version": "3.6.4",
      "file_extension": ".py",
      "codemirror_mode": {
        "name": "ipython",
        "version": 3
      },
      "name": "python",
      "mimetype": "text/x-python"
    },
    "kaggle": {
      "accelerator": "none",
      "dataSources": [
        {
          "sourceId": 2549419,
          "sourceType": "datasetVersion",
          "datasetId": 1546318
        }
      ],
      "dockerImageVersionId": 30129,
      "isInternetEnabled": true,
      "language": "python",
      "sourceType": "notebook",
      "isGpuEnabled": false
    },
    "colab": {
      "provenance": []
    }
  },
  "nbformat_minor": 0,
  "nbformat": 4,
  "cells": [
    {
      "cell_type": "code",
      "source": [
        "import numpy as np\n",
        "import pandas as pd\n",
        "import os\n",
        "for dirname, _, filenames in os.walk('/kaggle/input'):\n",
        "    for filename in filenames:\n",
        "        print(os.path.join(dirname, filename))"
      ],
      "metadata": {
        "_kg_hide-input": true,
        "_kg_hide-output": true,
        "execution": {
          "iopub.status.busy": "2021-10-08T04:12:13.749647Z",
          "iopub.execute_input": "2021-10-08T04:12:13.749923Z",
          "iopub.status.idle": "2021-10-08T04:12:13.780354Z",
          "shell.execute_reply.started": "2021-10-08T04:12:13.749841Z",
          "shell.execute_reply": "2021-10-08T04:12:13.779191Z"
        },
        "trusted": true,
        "id": "MocOdT-la0kv"
      },
      "outputs": [],
      "execution_count": null
    },
    {
      "cell_type": "code",
      "source": [
        "import numpy as np\n",
        "import pandas as pd\n",
        "import datetime\n",
        "import matplotlib\n",
        "import matplotlib.pyplot as plt\n",
        "from matplotlib import colors\n",
        "import seaborn as sns\n",
        "from sklearn.preprocessing import LabelEncoder\n",
        "from sklearn.preprocessing import StandardScaler\n",
        "from sklearn.decomposition import PCA\n",
        "from yellowbrick.cluster import KElbowVisualizer\n",
        "from sklearn.cluster import KMeans\n",
        "import matplotlib.pyplot as plt, numpy as np\n",
        "from mpl_toolkits.mplot3d import Axes3D\n",
        "from sklearn.cluster import AgglomerativeClustering\n",
        "from matplotlib.colors import ListedColormap\n",
        "from sklearn import metrics\n",
        "import warnings\n",
        "import sys\n",
        "if not sys.warnoptions:\n",
        "    warnings.simplefilter(\"ignore\")\n",
        "np.random.seed(42)"
      ],
      "metadata": {
        "execution": {
          "iopub.status.busy": "2021-10-08T04:12:13.782145Z",
          "iopub.execute_input": "2021-10-08T04:12:13.782486Z",
          "iopub.status.idle": "2021-10-08T04:12:15.112632Z",
          "shell.execute_reply.started": "2021-10-08T04:12:13.782444Z",
          "shell.execute_reply": "2021-10-08T04:12:15.111782Z"
        },
        "trusted": true,
        "id": "3dNOibQna0kx"
      },
      "outputs": [],
      "execution_count": null
    },
    {
      "cell_type": "code",
      "source": [
        "data = pd.read_csv(\"../input/customer-personality-analysis/marketing_campaign.csv\", sep=\"\\t\")\n",
        "print(\"Number of datapoints:\", len(data))\n",
        "data.head()"
      ],
      "metadata": {
        "execution": {
          "iopub.status.busy": "2021-10-08T04:12:15.113716Z",
          "iopub.execute_input": "2021-10-08T04:12:15.114343Z",
          "iopub.status.idle": "2021-10-08T04:12:15.171567Z",
          "shell.execute_reply.started": "2021-10-08T04:12:15.114297Z",
          "shell.execute_reply": "2021-10-08T04:12:15.170683Z"
        },
        "trusted": true,
        "id": "koHlOSYba0ky"
      },
      "outputs": [],
      "execution_count": null
    },
    {
      "cell_type": "code",
      "source": [
        "data.info()"
      ],
      "metadata": {
        "execution": {
          "iopub.status.busy": "2021-10-08T04:12:15.17321Z",
          "iopub.execute_input": "2021-10-08T04:12:15.173477Z",
          "iopub.status.idle": "2021-10-08T04:12:15.198247Z",
          "shell.execute_reply.started": "2021-10-08T04:12:15.173448Z",
          "shell.execute_reply": "2021-10-08T04:12:15.197443Z"
        },
        "trusted": true,
        "id": "pqCbqwRNa0ky"
      },
      "outputs": [],
      "execution_count": null
    },
    {
      "cell_type": "markdown",
      "source": [
        "**From the above output, we can conclude and note that:**\n",
        "\n",
        "* There are missing values in income\n",
        "* Dt_Customer that indicates the date a customer joined the database is not parsed as DateTime\n",
        "* There are some categorical features in our data frame; as there are some features in dtype: object). So we will need to encode them into numeric forms later.\n",
        "\n",
        "First of all, for the missing values, I am simply going to drop the rows that have missing income values."
      ],
      "metadata": {
        "id": "Wwtuzph0a0ky"
      }
    },
    {
      "cell_type": "code",
      "source": [
        "data = data.dropna()\n",
        "print(\"The total number of data-points after removing the rows with missing values are:\", len(data))"
      ],
      "metadata": {
        "execution": {
          "iopub.status.busy": "2021-10-08T04:12:15.199567Z",
          "iopub.execute_input": "2021-10-08T04:12:15.199874Z",
          "iopub.status.idle": "2021-10-08T04:12:15.209802Z",
          "shell.execute_reply.started": "2021-10-08T04:12:15.199835Z",
          "shell.execute_reply": "2021-10-08T04:12:15.208656Z"
        },
        "trusted": true,
        "id": "67yJo7Qpa0kz"
      },
      "outputs": [],
      "execution_count": null
    },
    {
      "cell_type": "markdown",
      "source": [
        "In the next step, I am going to create a feature out of **\"Dt_Customer\"** that indicates the number of days a customer is registered in the firm's database. However, in order to keep it simple, I am taking this value relative to the most recent customer in the record.\n",
        "\n",
        "Thus to get the values I must check the newest and oldest recorded dates."
      ],
      "metadata": {
        "id": "Cz-bxPP8a0kz"
      }
    },
    {
      "cell_type": "code",
      "source": [
        "data[\"Dt_Customer\"] = pd.to_datetime(data[\"Dt_Customer\"])\n",
        "dates = []\n",
        "for i in data[\"Dt_Customer\"]:\n",
        "    i = i.date()\n",
        "    dates.append(i)\n",
        "#Dates of the newest and oldest recorded customer\n",
        "print(\"The newest customer's enrolment date in therecords:\",max(dates))\n",
        "print(\"The oldest customer's enrolment date in the records:\",min(dates))\n"
      ],
      "metadata": {
        "execution": {
          "iopub.status.busy": "2021-10-08T04:12:15.211075Z",
          "iopub.execute_input": "2021-10-08T04:12:15.211499Z",
          "iopub.status.idle": "2021-10-08T04:12:15.229137Z",
          "shell.execute_reply.started": "2021-10-08T04:12:15.211459Z",
          "shell.execute_reply": "2021-10-08T04:12:15.228054Z"
        },
        "trusted": true,
        "id": "qBb2VuYaa0k0"
      },
      "outputs": [],
      "execution_count": null
    },
    {
      "cell_type": "markdown",
      "source": [
        "Creating a feature **(\"Customer_For\")** of the number of days the customers started to shop in the store relative to the last recorded date"
      ],
      "metadata": {
        "id": "ygnkd3eNa0k0"
      }
    },
    {
      "cell_type": "code",
      "source": [
        "\n",
        "days = []\n",
        "d1 = max(dates)\n",
        "for i in dates:\n",
        "    delta = d1 - i\n",
        "    days.append(delta)\n",
        "data[\"Customer_For\"] = days\n",
        "data[\"Customer_For\"] = pd.to_numeric(data[\"Customer_For\"], errors=\"coerce\")"
      ],
      "metadata": {
        "execution": {
          "iopub.status.busy": "2021-10-08T04:12:15.230408Z",
          "iopub.execute_input": "2021-10-08T04:12:15.230638Z",
          "iopub.status.idle": "2021-10-08T04:12:15.250178Z",
          "shell.execute_reply.started": "2021-10-08T04:12:15.230607Z",
          "shell.execute_reply": "2021-10-08T04:12:15.249414Z"
        },
        "trusted": true,
        "id": "lXYgmCrBa0k0"
      },
      "outputs": [],
      "execution_count": null
    },
    {
      "cell_type": "markdown",
      "source": [
        "Now we will be exploring the unique values in the categorical features to get a clear idea of the data.  "
      ],
      "metadata": {
        "id": "9SurRQvVa0k0"
      }
    },
    {
      "cell_type": "code",
      "source": [
        "print(\"Total categories in the feature Marital_Status:\\n\", data[\"Marital_Status\"].value_counts(), \"\\n\")\n",
        "print(\"Total categories in the feature Education:\\n\", data[\"Education\"].value_counts())"
      ],
      "metadata": {
        "execution": {
          "iopub.status.busy": "2021-10-08T04:12:15.251233Z",
          "iopub.execute_input": "2021-10-08T04:12:15.251554Z",
          "iopub.status.idle": "2021-10-08T04:12:15.265666Z",
          "shell.execute_reply.started": "2021-10-08T04:12:15.251514Z",
          "shell.execute_reply": "2021-10-08T04:12:15.264597Z"
        },
        "trusted": true,
        "id": "vnUQDeUsa0k1"
      },
      "outputs": [],
      "execution_count": null
    },
    {
      "cell_type": "markdown",
      "source": [
        "**In the next bit, I will be performing the following steps to engineer some new features:**\n",
        "\n",
        "* Extract the **\"Age\"** of a customer by the **\"Year_Birth\"** indicating the birth year of the respective person.\n",
        "* Create another feature **\"Spent\"** indicating the total amount spent by the customer in various categories over the span of two years.\n",
        "* Create another feature **\"Living_With\"** out of **\"Marital_Status\"** to extract the living situation of couples.\n",
        "* Create a feature **\"Children\"** to indicate total children in a household that is, kids and teenagers.\n",
        "* To get further clarity of household, Creating feature indicating **\"Family_Size\"**\n",
        "* Create a feature **\"Is_Parent\"** to indicate parenthood status\n",
        "* Lastly, I will create three categories in the **\"Education\"** by simplifying its value counts.\n",
        "* Dropping some of the redundant features"
      ],
      "metadata": {
        "id": "7tpoophUa0k1"
      }
    },
    {
      "cell_type": "code",
      "source": [
        "data[\"Age\"] = 2021-data[\"Year_Birth\"]\n",
        "\n",
        "#Total spendings on various items\n",
        "data[\"Spent\"] = data[\"MntWines\"]+ data[\"MntFruits\"]+ data[\"MntMeatProducts\"]+ data[\"MntFishProducts\"]+ data[\"MntSweetProducts\"]+ data[\"MntGoldProds\"]\n",
        "\n",
        "#Deriving living situation by marital status\"Alone\"\n",
        "data[\"Living_With\"]=data[\"Marital_Status\"].replace({\"Married\":\"Partner\", \"Together\":\"Partner\", \"Absurd\":\"Alone\", \"Widow\":\"Alone\", \"YOLO\":\"Alone\", \"Divorced\":\"Alone\", \"Single\":\"Alone\",})\n",
        "\n",
        "#Feature indicating total children living in the household\n",
        "data[\"Children\"]=data[\"Kidhome\"]+data[\"Teenhome\"]\n",
        "\n",
        "#Feature for total members in the householde\n",
        "data[\"Family_Size\"] = data[\"Living_With\"].replace({\"Alone\": 1, \"Partner\":2})+ data[\"Children\"]\n",
        "\n",
        "#Feature pertaining parenthood\n",
        "data[\"Is_Parent\"] = np.where(data.Children> 0, 1, 0)\n",
        "\n",
        "#Segmenting education levels in three groups\n",
        "data[\"Education\"]=data[\"Education\"].replace({\"Basic\":\"Undergraduate\",\"2n Cycle\":\"Undergraduate\", \"Graduation\":\"Graduate\", \"Master\":\"Postgraduate\", \"PhD\":\"Postgraduate\"})\n",
        "\n",
        "#For clarity\n",
        "data=data.rename(columns={\"MntWines\": \"Wines\",\"MntFruits\":\"Fruits\",\"MntMeatProducts\":\"Meat\",\"MntFishProducts\":\"Fish\",\"MntSweetProducts\":\"Sweets\",\"MntGoldProds\":\"Gold\"})\n",
        "\n",
        "#Dropping some of the redundant features\n",
        "to_drop = [\"Marital_Status\", \"Dt_Customer\", \"Z_CostContact\", \"Z_Revenue\", \"Year_Birth\", \"ID\"]\n",
        "data = data.drop(to_drop, axis=1)"
      ],
      "metadata": {
        "execution": {
          "iopub.status.busy": "2021-10-08T04:12:15.268409Z",
          "iopub.execute_input": "2021-10-08T04:12:15.268669Z",
          "iopub.status.idle": "2021-10-08T04:12:15.399688Z",
          "shell.execute_reply.started": "2021-10-08T04:12:15.26864Z",
          "shell.execute_reply": "2021-10-08T04:12:15.398865Z"
        },
        "trusted": true,
        "id": "ZqpdAFBpa0k1"
      },
      "outputs": [],
      "execution_count": null
    },
    {
      "cell_type": "markdown",
      "source": [
        "Now that we have some new features let's have a look at the data's stats."
      ],
      "metadata": {
        "id": "xBcjSSHTa0k1"
      }
    },
    {
      "cell_type": "code",
      "source": [
        "data.describe()"
      ],
      "metadata": {
        "execution": {
          "iopub.status.busy": "2021-10-08T04:12:15.400938Z",
          "iopub.execute_input": "2021-10-08T04:12:15.401232Z",
          "iopub.status.idle": "2021-10-08T04:12:15.478487Z",
          "shell.execute_reply.started": "2021-10-08T04:12:15.401193Z",
          "shell.execute_reply": "2021-10-08T04:12:15.477603Z"
        },
        "trusted": true,
        "id": "3DPMBfvaa0k1"
      },
      "outputs": [],
      "execution_count": null
    },
    {
      "cell_type": "markdown",
      "source": [
        "The above stats show some discrepancies in mean Income and Age and max Income and age.\n",
        "\n",
        "Do note that  max-age is 128 years, As I calculated the age that would be today (i.e. 2021) and the data is old.\n",
        "\n",
        "I must take a look at the broader view of the data.\n",
        "I will plot some of the selected features."
      ],
      "metadata": {
        "id": "EPfDv1C9a0k1"
      }
    },
    {
      "cell_type": "code",
      "source": [
        "#To plot some selected features\n",
        "#Setting up colors prefrences\n",
        "sns.set(rc={\"axes.facecolor\":\"#FFF9ED\",\"figure.facecolor\":\"#FFF9ED\"})\n",
        "pallet = [\"#682F2F\", \"#9E726F\", \"#D6B2B1\", \"#B9C0C9\", \"#9F8A78\", \"#F3AB60\"]\n",
        "cmap = colors.ListedColormap([\"#682F2F\", \"#9E726F\", \"#D6B2B1\", \"#B9C0C9\", \"#9F8A78\", \"#F3AB60\"])\n",
        "#Plotting following features\n",
        "To_Plot = [ \"Income\", \"Recency\", \"Customer_For\", \"Age\", \"Spent\", \"Is_Parent\"]\n",
        "print(\"Reletive Plot Of Some Selected Features: A Data Subset\")\n",
        "plt.figure()\n",
        "sns.pairplot(data[To_Plot], hue= \"Is_Parent\",palette= ([\"#682F2F\",\"#F3AB60\"]))\n",
        "#Taking hue\n",
        "plt.show()"
      ],
      "metadata": {
        "execution": {
          "iopub.status.busy": "2021-10-08T04:12:15.479912Z",
          "iopub.execute_input": "2021-10-08T04:12:15.48015Z",
          "iopub.status.idle": "2021-10-08T04:12:24.092248Z",
          "shell.execute_reply.started": "2021-10-08T04:12:15.480124Z",
          "shell.execute_reply": "2021-10-08T04:12:24.091575Z"
        },
        "trusted": true,
        "id": "ypbUiuL_a0k1"
      },
      "outputs": [],
      "execution_count": null
    },
    {
      "cell_type": "markdown",
      "source": [
        "Clearly, there are a few outliers in the Income and Age features.\n",
        "I will be deleting the outliers in the data."
      ],
      "metadata": {
        "id": "S3PcD_IQa0k1"
      }
    },
    {
      "cell_type": "code",
      "source": [
        "#Dropping the outliers by setting a cap on Age and income.\n",
        "data = data[(data[\"Age\"]<90)]\n",
        "data = data[(data[\"Income\"]<600000)]\n",
        "print(\"The total number of data-points after removing the outliers are:\", len(data))"
      ],
      "metadata": {
        "execution": {
          "iopub.status.busy": "2021-10-08T04:12:24.093559Z",
          "iopub.execute_input": "2021-10-08T04:12:24.093983Z",
          "iopub.status.idle": "2021-10-08T04:12:24.102146Z",
          "shell.execute_reply.started": "2021-10-08T04:12:24.093947Z",
          "shell.execute_reply": "2021-10-08T04:12:24.10103Z"
        },
        "trusted": true,
        "id": "FUpVka7sa0k2"
      },
      "outputs": [],
      "execution_count": null
    },
    {
      "cell_type": "markdown",
      "source": [
        "Next, let us look at the correlation amongst the features.\n",
        "(Excluding the categorical attributes at this point)"
      ],
      "metadata": {
        "id": "kH4wHKIza0k2"
      }
    },
    {
      "cell_type": "code",
      "source": [
        "#correlation matrix\n",
        "corrmat= data.corr()\n",
        "plt.figure(figsize=(20,20))\n",
        "sns.heatmap(corrmat,annot=True, cmap=cmap, center=0)"
      ],
      "metadata": {
        "execution": {
          "iopub.status.busy": "2021-10-08T04:12:24.103513Z",
          "iopub.execute_input": "2021-10-08T04:12:24.103771Z",
          "iopub.status.idle": "2021-10-08T04:12:28.362244Z",
          "shell.execute_reply.started": "2021-10-08T04:12:24.103737Z",
          "shell.execute_reply": "2021-10-08T04:12:28.361309Z"
        },
        "trusted": true,
        "id": "hV4dT5t7a0k2"
      },
      "outputs": [],
      "execution_count": null
    },
    {
      "cell_type": "markdown",
      "source": [
        "The data is quite clean and the new features have been included. I will proceed to the next step. That is, preprocessing the data.\n",
        "\n",
        "In this section, I will be preprocessing the data to perform clustering operations.\n",
        "\n",
        "**The following steps are applied to preprocess the data:**\n",
        "\n",
        "* Label encoding the categorical features\n",
        "* Scaling the features using the standard scaler\n",
        "* Creating a subset dataframe for dimensionality reduction"
      ],
      "metadata": {
        "id": "Ze7xRKdqa0k2"
      }
    },
    {
      "cell_type": "code",
      "source": [
        "#Get list of categorical variables\n",
        "s = (data.dtypes == 'object')\n",
        "object_cols = list(s[s].index)\n",
        "\n",
        "print(\"Categorical variables in the dataset:\", object_cols)"
      ],
      "metadata": {
        "execution": {
          "iopub.status.busy": "2021-10-08T04:12:28.363461Z",
          "iopub.execute_input": "2021-10-08T04:12:28.363675Z",
          "iopub.status.idle": "2021-10-08T04:12:28.369803Z",
          "shell.execute_reply.started": "2021-10-08T04:12:28.36365Z",
          "shell.execute_reply": "2021-10-08T04:12:28.368828Z"
        },
        "trusted": true,
        "id": "dsvyir9ya0k2"
      },
      "outputs": [],
      "execution_count": null
    },
    {
      "cell_type": "code",
      "source": [
        "#Label Encoding the object dtypes.\n",
        "LE=LabelEncoder()\n",
        "for i in object_cols:\n",
        "    data[i]=data[[i]].apply(LE.fit_transform)\n",
        "\n",
        "print(\"All features are now numerical\")"
      ],
      "metadata": {
        "execution": {
          "iopub.status.busy": "2021-10-08T04:12:28.371419Z",
          "iopub.execute_input": "2021-10-08T04:12:28.371692Z",
          "iopub.status.idle": "2021-10-08T04:12:28.390719Z",
          "shell.execute_reply.started": "2021-10-08T04:12:28.371665Z",
          "shell.execute_reply": "2021-10-08T04:12:28.389214Z"
        },
        "trusted": true,
        "id": "VA1rVisca0k2"
      },
      "outputs": [],
      "execution_count": null
    },
    {
      "cell_type": "code",
      "source": [
        "#Creating a copy of data\n",
        "ds = data.copy()\n",
        "# creating a subset of dataframe by dropping the features on deals accepted and promotions\n",
        "cols_del = ['AcceptedCmp3', 'AcceptedCmp4', 'AcceptedCmp5', 'AcceptedCmp1','AcceptedCmp2', 'Complain', 'Response']\n",
        "ds = ds.drop(cols_del, axis=1)\n",
        "#Scaling\n",
        "scaler = StandardScaler()\n",
        "scaler.fit(ds)\n",
        "scaled_ds = pd.DataFrame(scaler.transform(ds),columns= ds.columns )\n",
        "print(\"All features are now scaled\")"
      ],
      "metadata": {
        "execution": {
          "iopub.status.busy": "2021-10-08T04:12:28.39217Z",
          "iopub.execute_input": "2021-10-08T04:12:28.392542Z",
          "iopub.status.idle": "2021-10-08T04:12:28.408294Z",
          "shell.execute_reply.started": "2021-10-08T04:12:28.392454Z",
          "shell.execute_reply": "2021-10-08T04:12:28.406909Z"
        },
        "trusted": true,
        "id": "-ukb816va0k2"
      },
      "outputs": [],
      "execution_count": null
    },
    {
      "cell_type": "code",
      "source": [
        "#Scaled data to be used for reducing the dimensionality\n",
        "print(\"Dataframe to be used for further modelling:\")\n",
        "scaled_ds.head()"
      ],
      "metadata": {
        "execution": {
          "iopub.status.busy": "2021-10-08T04:12:28.409695Z",
          "iopub.execute_input": "2021-10-08T04:12:28.40998Z",
          "iopub.status.idle": "2021-10-08T04:12:28.436795Z",
          "shell.execute_reply.started": "2021-10-08T04:12:28.409942Z",
          "shell.execute_reply": "2021-10-08T04:12:28.43589Z"
        },
        "trusted": true,
        "id": "4o2EqeEna0k2"
      },
      "outputs": [],
      "execution_count": null
    },
    {
      "cell_type": "markdown",
      "source": [
        "In this problem, there are many factors on the basis of which the final classification will be done. These factors are basically attributes or features. The higher the number of features, the harder it is to work with it. Many of these features are correlated, and hence redundant. This is why I will be performing dimensionality reduction on the selected features before putting them through a classifier.  \n",
        "*Dimensionality reduction is the process of reducing the number of random variables under consideration, by obtaining a set of principal variables.*\n",
        "\n",
        "**Principal component analysis (PCA)** is a technique for reducing the dimensionality of such datasets, increasing interpretability but at the same time minimizing information loss.\n",
        "\n",
        "**Steps in this section:**\n",
        "* Dimensionality reduction with PCA\n",
        "* Plotting the reduced dataframe\n",
        "\n",
        "**Dimensionality reduction with PCA**\n",
        "\n",
        "For this project, I will be reducing the dimensions to 3."
      ],
      "metadata": {
        "id": "JgduqRvFa0k2"
      }
    },
    {
      "cell_type": "code",
      "source": [
        "#Initiating PCA to reduce dimentions aka features to 3\n",
        "pca = PCA(n_components=3)\n",
        "pca.fit(scaled_ds)\n",
        "PCA_ds = pd.DataFrame(pca.transform(scaled_ds), columns=([\"col1\",\"col2\", \"col3\"]))\n",
        "PCA_ds.describe().T"
      ],
      "metadata": {
        "execution": {
          "iopub.status.busy": "2021-10-08T04:12:28.438067Z",
          "iopub.execute_input": "2021-10-08T04:12:28.438297Z",
          "iopub.status.idle": "2021-10-08T04:12:28.496516Z",
          "shell.execute_reply.started": "2021-10-08T04:12:28.438263Z",
          "shell.execute_reply": "2021-10-08T04:12:28.495475Z"
        },
        "trusted": true,
        "id": "Hmz_8cLwa0k2"
      },
      "outputs": [],
      "execution_count": null
    },
    {
      "cell_type": "code",
      "source": [
        "#A 3D Projection Of Data In The Reduced Dimension\n",
        "x =PCA_ds[\"col1\"]\n",
        "y =PCA_ds[\"col2\"]\n",
        "z =PCA_ds[\"col3\"]\n",
        "#To plot\n",
        "fig = plt.figure(figsize=(10,8))\n",
        "ax = fig.add_subplot(111, projection=\"3d\")\n",
        "ax.scatter(x,y,z, c=\"maroon\", marker=\"o\" )\n",
        "ax.set_title(\"A 3D Projection Of Data In The Reduced Dimension\")\n",
        "plt.show()"
      ],
      "metadata": {
        "execution": {
          "iopub.status.busy": "2021-10-08T04:12:28.498425Z",
          "iopub.execute_input": "2021-10-08T04:12:28.49906Z",
          "iopub.status.idle": "2021-10-08T04:12:28.809426Z",
          "shell.execute_reply.started": "2021-10-08T04:12:28.499006Z",
          "shell.execute_reply": "2021-10-08T04:12:28.808813Z"
        },
        "trusted": true,
        "id": "_2TKd0CYa0k2"
      },
      "outputs": [],
      "execution_count": null
    },
    {
      "cell_type": "markdown",
      "source": [
        "Now that I have reduced the attributes to three dimensions, I will be performing clustering via Agglomerative clustering. Agglomerative clustering is a hierarchical clustering method.  It involves merging examples until the desired number of clusters is achieved.\n",
        "\n",
        "**Steps involved in the Clustering**\n",
        "* Elbow Method to determine the number of clusters to be formed\n",
        "* Clustering via Agglomerative Clustering\n",
        "* Examining the clusters formed via scatter plot"
      ],
      "metadata": {
        "id": "tIUw79ara0k3"
      }
    },
    {
      "cell_type": "code",
      "source": [
        "# Quick examination of elbow method to find numbers of clusters to make.\n",
        "print('Elbow Method to determine the number of clusters to be formed:')\n",
        "Elbow_M = KElbowVisualizer(KMeans(), k=10)\n",
        "Elbow_M.fit(PCA_ds)\n",
        "Elbow_M.show()"
      ],
      "metadata": {
        "execution": {
          "iopub.status.busy": "2021-10-08T04:12:28.810697Z",
          "iopub.execute_input": "2021-10-08T04:12:28.811458Z",
          "iopub.status.idle": "2021-10-08T04:12:30.671151Z",
          "shell.execute_reply.started": "2021-10-08T04:12:28.811409Z",
          "shell.execute_reply": "2021-10-08T04:12:30.670434Z"
        },
        "trusted": true,
        "id": "ii3KXfZVa0k3"
      },
      "outputs": [],
      "execution_count": null
    },
    {
      "cell_type": "markdown",
      "source": [
        "The above cell indicates that four will be an optimal number of clusters for this data.\n",
        "Next, we will be fitting the Agglomerative Clustering Model to get the final clusters."
      ],
      "metadata": {
        "execution": {
          "iopub.execute_input": "2021-09-24T12:48:31.555898Z",
          "iopub.status.busy": "2021-09-24T12:48:31.555573Z",
          "iopub.status.idle": "2021-09-24T12:48:31.559969Z",
          "shell.execute_reply": "2021-09-24T12:48:31.559288Z",
          "shell.execute_reply.started": "2021-09-24T12:48:31.55586Z"
        },
        "id": "o8Szie9-a0k3"
      }
    },
    {
      "cell_type": "code",
      "source": [
        "#Initiating the Agglomerative Clustering model\n",
        "AC = AgglomerativeClustering(n_clusters=4)\n",
        "# fit model and predict clusters\n",
        "yhat_AC = AC.fit_predict(PCA_ds)\n",
        "PCA_ds[\"Clusters\"] = yhat_AC\n",
        "#Adding the Clusters feature to the orignal dataframe.\n",
        "data[\"Clusters\"]= yhat_AC"
      ],
      "metadata": {
        "execution": {
          "iopub.status.busy": "2021-10-08T04:12:30.672666Z",
          "iopub.execute_input": "2021-10-08T04:12:30.673126Z",
          "iopub.status.idle": "2021-10-08T04:12:30.827286Z",
          "shell.execute_reply.started": "2021-10-08T04:12:30.673084Z",
          "shell.execute_reply": "2021-10-08T04:12:30.826598Z"
        },
        "trusted": true,
        "id": "J9AlLk29a0k3"
      },
      "outputs": [],
      "execution_count": null
    },
    {
      "cell_type": "markdown",
      "source": [
        "To examine the clusters formed let's have a look at the 3-D distribution of the clusters."
      ],
      "metadata": {
        "id": "M8xd_nL1a0k3"
      }
    },
    {
      "cell_type": "code",
      "source": [
        "#Plotting the clusters\n",
        "fig = plt.figure(figsize=(10,8))\n",
        "ax = plt.subplot(111, projection='3d', label=\"bla\")\n",
        "ax.scatter(x, y, z, s=40, c=PCA_ds[\"Clusters\"], marker='o', cmap = cmap )\n",
        "ax.set_title(\"The Plot Of The Clusters\")\n",
        "plt.show()"
      ],
      "metadata": {
        "execution": {
          "iopub.status.busy": "2021-10-08T04:12:30.82827Z",
          "iopub.execute_input": "2021-10-08T04:12:30.828955Z",
          "iopub.status.idle": "2021-10-08T04:12:31.154363Z",
          "shell.execute_reply.started": "2021-10-08T04:12:30.828912Z",
          "shell.execute_reply": "2021-10-08T04:12:31.153018Z"
        },
        "trusted": true,
        "id": "FEUzT-PSa0k3"
      },
      "outputs": [],
      "execution_count": null
    },
    {
      "cell_type": "markdown",
      "source": [
        "Since this is an unsupervised clustering. We do not have a tagged feature to evaluate or score our model. The purpose of this section is to study the patterns in the clusters formed and determine the nature of the clusters' patterns.\n",
        "\n",
        "For that, we will be having a look at the data in light of clusters via exploratory data analysis and drawing conclusions.\n",
        "\n",
        "**Firstly, let us have a look at the group distribution of clustring**"
      ],
      "metadata": {
        "id": "8xJkL30Fa0k3"
      }
    },
    {
      "cell_type": "code",
      "source": [
        "#Plotting countplot of clusters\n",
        "pal = [\"#682F2F\",\"#B9C0C9\", \"#9F8A78\",\"#F3AB60\"]\n",
        "pl = sns.countplot(x=data[\"Clusters\"], palette= pal)\n",
        "pl.set_title(\"Distribution Of The Clusters\")\n",
        "plt.show()"
      ],
      "metadata": {
        "execution": {
          "iopub.status.busy": "2021-10-08T04:12:31.156307Z",
          "iopub.execute_input": "2021-10-08T04:12:31.157327Z",
          "iopub.status.idle": "2021-10-08T04:12:31.385307Z",
          "shell.execute_reply.started": "2021-10-08T04:12:31.157287Z",
          "shell.execute_reply": "2021-10-08T04:12:31.384283Z"
        },
        "trusted": true,
        "id": "c87i3tnna0k3"
      },
      "outputs": [],
      "execution_count": null
    },
    {
      "cell_type": "markdown",
      "source": [
        "\n"
      ],
      "metadata": {
        "id": "Hpq7AZPqa0k3"
      }
    },
    {
      "cell_type": "markdown",
      "source": [
        "The clusters seem to be fairly distributed."
      ],
      "metadata": {
        "id": "hwf_bS3wa0k7"
      }
    },
    {
      "cell_type": "code",
      "source": [
        "pl = sns.scatterplot(data = data,x=data[\"Spent\"], y=data[\"Income\"],hue=data[\"Clusters\"], palette= pal)\n",
        "pl.set_title(\"Cluster's Profile Based On Income And Spending\")\n",
        "plt.legend()\n",
        "plt.show()"
      ],
      "metadata": {
        "execution": {
          "iopub.status.busy": "2021-10-08T04:12:31.389208Z",
          "iopub.execute_input": "2021-10-08T04:12:31.389468Z",
          "iopub.status.idle": "2021-10-08T04:12:31.818333Z",
          "shell.execute_reply.started": "2021-10-08T04:12:31.38944Z",
          "shell.execute_reply": "2021-10-08T04:12:31.817544Z"
        },
        "trusted": true,
        "id": "iUdVU99_a0k7"
      },
      "outputs": [],
      "execution_count": null
    },
    {
      "cell_type": "markdown",
      "source": [
        "**Income vs  spending plot shows the clusters pattern**\n",
        "* group 0: high spending & average income\n",
        "* group 1: high spending & high income\n",
        "* group 2: low spending & low income\n",
        "* group 3: high spending & low income  \n",
        "\n",
        "Next, I will be looking at the detailed distribution of clusters as per the various products in the data. Namely: Wines, Fruits, Meat, Fish, Sweets and Gold"
      ],
      "metadata": {
        "id": "DIZYma2ia0k7"
      }
    },
    {
      "cell_type": "code",
      "source": [
        "plt.figure()\n",
        "pl=sns.swarmplot(x=data[\"Clusters\"], y=data[\"Spent\"], color= \"#CBEDDD\", alpha=0.5 )\n",
        "pl=sns.boxenplot(x=data[\"Clusters\"], y=data[\"Spent\"], palette=pal)\n",
        "plt.show()"
      ],
      "metadata": {
        "execution": {
          "iopub.status.busy": "2021-10-08T04:12:31.819474Z",
          "iopub.execute_input": "2021-10-08T04:12:31.819769Z",
          "iopub.status.idle": "2021-10-08T04:12:36.276548Z",
          "shell.execute_reply.started": "2021-10-08T04:12:31.81967Z",
          "shell.execute_reply": "2021-10-08T04:12:36.275576Z"
        },
        "trusted": true,
        "id": "lBFLwxNza0k7"
      },
      "outputs": [],
      "execution_count": null
    },
    {
      "cell_type": "markdown",
      "source": [
        "\n",
        "From the above plot, it can be clearly seen that cluster 1 is our biggest set of customers closely followed by cluster 0.\n",
        "We can explore what each cluster is spending on for the targeted marketing strategies.\n"
      ],
      "metadata": {
        "id": "nE4bN-VMa0k7"
      }
    },
    {
      "cell_type": "markdown",
      "source": [
        "Let us next explore how did our campaigns do in the past."
      ],
      "metadata": {
        "id": "u9P7kKtba0k7"
      }
    },
    {
      "cell_type": "code",
      "source": [
        "#Creating a feature to get a sum of accepted promotions\n",
        "data[\"Total_Promos\"] = data[\"AcceptedCmp1\"]+ data[\"AcceptedCmp2\"]+ data[\"AcceptedCmp3\"]+ data[\"AcceptedCmp4\"]+ data[\"AcceptedCmp5\"]\n",
        "#Plotting count of total campaign accepted.\n",
        "plt.figure()\n",
        "pl = sns.countplot(x=data[\"Total_Promos\"],hue=data[\"Clusters\"], palette= pal)\n",
        "pl.set_title(\"Count Of Promotion Accepted\")\n",
        "pl.set_xlabel(\"Number Of Total Accepted Promotions\")\n",
        "plt.show()"
      ],
      "metadata": {
        "execution": {
          "iopub.status.busy": "2021-10-08T04:12:36.277774Z",
          "iopub.execute_input": "2021-10-08T04:12:36.278041Z",
          "iopub.status.idle": "2021-10-08T04:12:36.565937Z",
          "shell.execute_reply.started": "2021-10-08T04:12:36.27801Z",
          "shell.execute_reply": "2021-10-08T04:12:36.565035Z"
        },
        "trusted": true,
        "id": "mK-C97Tda0k7"
      },
      "outputs": [],
      "execution_count": null
    },
    {
      "cell_type": "markdown",
      "source": [
        "There has not been an overwhelming response to the campaigns so far. Very few participants overall. Moreover, no one part take in all 5 of them. Perhaps better-targeted and well-planned campaigns are required to boost sales.\n"
      ],
      "metadata": {
        "id": "hoWEQ1I9a0k7"
      }
    },
    {
      "cell_type": "code",
      "source": [
        "#Plotting the number of deals purchased\n",
        "plt.figure()\n",
        "pl=sns.boxenplot(y=data[\"NumDealsPurchases\"],x=data[\"Clusters\"], palette= pal)\n",
        "pl.set_title(\"Number of Deals Purchased\")\n",
        "plt.show()"
      ],
      "metadata": {
        "execution": {
          "iopub.status.busy": "2021-10-08T04:12:36.567009Z",
          "iopub.execute_input": "2021-10-08T04:12:36.567218Z",
          "iopub.status.idle": "2021-10-08T04:12:36.806254Z",
          "shell.execute_reply.started": "2021-10-08T04:12:36.567195Z",
          "shell.execute_reply": "2021-10-08T04:12:36.805457Z"
        },
        "trusted": true,
        "id": "ySvv5sRRa0k7"
      },
      "outputs": [],
      "execution_count": null
    },
    {
      "cell_type": "markdown",
      "source": [
        "Unlike campaigns, the deals offered did well. It has best outcome with cluster 0 and cluster 3.\n",
        "However, our star customers cluster 1 are not much into the deals.\n",
        "Nothing seems to attract cluster 2 overwhelmingly\n"
      ],
      "metadata": {
        "id": "O1lunTSPa0k8"
      }
    },
    {
      "cell_type": "code",
      "source": [
        "#for more details on the purchasing style\n",
        "Places =[\"NumWebPurchases\", \"NumCatalogPurchases\", \"NumStorePurchases\",  \"NumWebVisitsMonth\"]\n",
        "\n",
        "for i in Places:\n",
        "    plt.figure()\n",
        "    sns.jointplot(x=data[i],y = data[\"Spent\"],hue=data[\"Clusters\"], palette= pal)\n",
        "    plt.show()"
      ],
      "metadata": {
        "_kg_hide-input": true,
        "_kg_hide-output": true,
        "execution": {
          "iopub.status.busy": "2021-10-08T04:12:36.807424Z",
          "iopub.execute_input": "2021-10-08T04:12:36.807729Z",
          "iopub.status.idle": "2021-10-08T04:12:39.973646Z",
          "shell.execute_reply.started": "2021-10-08T04:12:36.807697Z",
          "shell.execute_reply": "2021-10-08T04:12:39.972882Z"
        },
        "trusted": true,
        "id": "wHWuJSQ1a0k8"
      },
      "outputs": [],
      "execution_count": null
    },
    {
      "cell_type": "markdown",
      "source": [
        "Now that we have formed the clusters and looked at their purchasing habits.\n",
        "Let us see who all are there in these clusters. For that, we will be profiling the clusters formed and come to a conclusion about who is our star customer and who needs more attention from the retail store's marketing team.\n",
        "\n",
        "To decide that I will be plotting some of the features that are indicative of the customer's personal traits in light of the cluster they are in.\n",
        "On the basis of the outcomes, I will be arriving at the conclusions."
      ],
      "metadata": {
        "id": "gc3TvPz7a0k8"
      }
    },
    {
      "cell_type": "code",
      "source": [
        "Personal = [ \"Kidhome\",\"Teenhome\",\"Customer_For\", \"Age\", \"Children\", \"Family_Size\", \"Is_Parent\", \"Education\",\"Living_With\"]\n",
        "\n",
        "for i in Personal:\n",
        "    plt.figure()\n",
        "    sns.jointplot(x=data[i], y=data[\"Spent\"], hue =data[\"Clusters\"], kind=\"kde\", palette=pal)\n",
        "    plt.show()\n"
      ],
      "metadata": {
        "execution": {
          "iopub.status.busy": "2021-10-08T04:12:39.974688Z",
          "iopub.execute_input": "2021-10-08T04:12:39.974932Z",
          "iopub.status.idle": "2021-10-08T04:13:05.313109Z",
          "shell.execute_reply.started": "2021-10-08T04:12:39.974905Z",
          "shell.execute_reply": "2021-10-08T04:13:05.312427Z"
        },
        "trusted": true,
        "id": "6WuSzFY6a0k8"
      },
      "outputs": [],
      "execution_count": null
    },
    {
      "cell_type": "markdown",
      "source": [
        "In this project, I performed unsupervised clustering.\n",
        "I did use dimensionality reduction followed by agglomerative clustering.\n",
        "I came up with 4 clusters and further used them in profiling customers in clusters according to their family structures and income/spending.\n",
        "This can be used in planning better marketing strategies."
      ],
      "metadata": {
        "id": "13y76bbZa0k8"
      }
    }
  ]
}